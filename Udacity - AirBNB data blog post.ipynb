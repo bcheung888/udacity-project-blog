{
 "cells": [
  {
   "cell_type": "markdown",
   "metadata": {},
   "source": [
    "# Udacity Project - Sydney AirBNB dataset\n",
    "\n",
    "### For this project, we'll use the Sydney AirBNB dataset to take a look at the following 3 questions:\n",
    "- What are the busiest times of the year to visit Sydney? By how much do prices spike?\n",
    "- Is there a general upward trend of both new Airbnb listings and total Airbnb visitors to Sydney?\n",
    "- Can you describe the vibe of each Sydney neighborhood using listing descriptions?"
   ]
  },
  {
   "cell_type": "markdown",
   "metadata": {},
   "source": [
    "Let's import some libraries first"
   ]
  },
  {
   "cell_type": "code",
   "execution_count": 1,
   "metadata": {},
   "outputs": [],
   "source": [
    "import pandas as pd\n",
    "import numpy as np\n",
    "import matplotlib.pyplot as plt\n",
    "from datetime import datetime\n",
    "from sklearn.feature_extraction.text import TfidfVectorizer\n",
    "\n",
    "%matplotlib inline\n",
    "\n",
    "import warnings\n",
    "warnings.filterwarnings('ignore')"
   ]
  },
  {
   "cell_type": "markdown",
   "metadata": {},
   "source": [
    "The AirBNB dataset comes in 3 parts, we'll import and take a look at these"
   ]
  },
  {
   "cell_type": "code",
   "execution_count": 2,
   "metadata": {},
   "outputs": [],
   "source": [
    "# 3 datasets in CSV format - listings, reviews, and calendar\n",
    "\n",
    "listings = pd.read_csv(\"./listings.csv\")\n",
    "reviews = pd.read_csv(\"./reviews.csv\")\n",
    "calendar = pd.read_csv(\"./calendar.csv\")"
   ]
  },
  {
   "cell_type": "code",
   "execution_count": 3,
   "metadata": {},
   "outputs": [
    {
     "name": "stdout",
     "output_type": "stream",
     "text": [
      "(38080, 106)\n",
      "(541665, 6)\n",
      "(13899581, 7)\n"
     ]
    }
   ],
   "source": [
    "# look at the shape of the data\n",
    "print(listings.shape)\n",
    "print(reviews.shape)\n",
    "print(calendar.shape)"
   ]
  },
  {
   "cell_type": "code",
   "execution_count": 4,
   "metadata": {},
   "outputs": [
    {
     "data": {
      "text/html": [
       "<div>\n",
       "<style scoped>\n",
       "    .dataframe tbody tr th:only-of-type {\n",
       "        vertical-align: middle;\n",
       "    }\n",
       "\n",
       "    .dataframe tbody tr th {\n",
       "        vertical-align: top;\n",
       "    }\n",
       "\n",
       "    .dataframe thead th {\n",
       "        text-align: right;\n",
       "    }\n",
       "</style>\n",
       "<table border=\"1\" class=\"dataframe\">\n",
       "  <thead>\n",
       "    <tr style=\"text-align: right;\">\n",
       "      <th></th>\n",
       "      <th>id</th>\n",
       "      <th>listing_url</th>\n",
       "      <th>scrape_id</th>\n",
       "      <th>last_scraped</th>\n",
       "      <th>name</th>\n",
       "      <th>summary</th>\n",
       "      <th>space</th>\n",
       "      <th>description</th>\n",
       "      <th>experiences_offered</th>\n",
       "      <th>neighborhood_overview</th>\n",
       "      <th>...</th>\n",
       "      <th>instant_bookable</th>\n",
       "      <th>is_business_travel_ready</th>\n",
       "      <th>cancellation_policy</th>\n",
       "      <th>require_guest_profile_picture</th>\n",
       "      <th>require_guest_phone_verification</th>\n",
       "      <th>calculated_host_listings_count</th>\n",
       "      <th>calculated_host_listings_count_entire_homes</th>\n",
       "      <th>calculated_host_listings_count_private_rooms</th>\n",
       "      <th>calculated_host_listings_count_shared_rooms</th>\n",
       "      <th>reviews_per_month</th>\n",
       "    </tr>\n",
       "  </thead>\n",
       "  <tbody>\n",
       "    <tr>\n",
       "      <th>0</th>\n",
       "      <td>11156</td>\n",
       "      <td>https://www.airbnb.com/rooms/11156</td>\n",
       "      <td>20190710033517</td>\n",
       "      <td>2019-07-11</td>\n",
       "      <td>An Oasis in the City</td>\n",
       "      <td>Very central to the city which can be reached ...</td>\n",
       "      <td>Potts Pt. is a vibrant  and popular inner-city...</td>\n",
       "      <td>Very central to the city which can be reached ...</td>\n",
       "      <td>none</td>\n",
       "      <td>It is very close to everything and everywhere,...</td>\n",
       "      <td>...</td>\n",
       "      <td>f</td>\n",
       "      <td>f</td>\n",
       "      <td>moderate</td>\n",
       "      <td>f</td>\n",
       "      <td>f</td>\n",
       "      <td>1</td>\n",
       "      <td>0</td>\n",
       "      <td>1</td>\n",
       "      <td>0</td>\n",
       "      <td>1.58</td>\n",
       "    </tr>\n",
       "    <tr>\n",
       "      <th>1</th>\n",
       "      <td>12351</td>\n",
       "      <td>https://www.airbnb.com/rooms/12351</td>\n",
       "      <td>20190710033517</td>\n",
       "      <td>2019-07-11</td>\n",
       "      <td>Sydney City &amp; Harbour at the door</td>\n",
       "      <td>Come stay with Vinh &amp; Stuart (Awarded as one o...</td>\n",
       "      <td>We're pretty relaxed hosts, and we fully appre...</td>\n",
       "      <td>Come stay with Vinh &amp; Stuart (Awarded as one o...</td>\n",
       "      <td>none</td>\n",
       "      <td>Pyrmont is an inner-city village of Sydney, on...</td>\n",
       "      <td>...</td>\n",
       "      <td>f</td>\n",
       "      <td>f</td>\n",
       "      <td>strict_14_with_grace_period</td>\n",
       "      <td>t</td>\n",
       "      <td>t</td>\n",
       "      <td>2</td>\n",
       "      <td>0</td>\n",
       "      <td>2</td>\n",
       "      <td>0</td>\n",
       "      <td>4.73</td>\n",
       "    </tr>\n",
       "    <tr>\n",
       "      <th>2</th>\n",
       "      <td>14250</td>\n",
       "      <td>https://www.airbnb.com/rooms/14250</td>\n",
       "      <td>20190710033517</td>\n",
       "      <td>2019-07-10</td>\n",
       "      <td>Manly Harbour House</td>\n",
       "      <td>Beautifully renovated, spacious and quiet, our...</td>\n",
       "      <td>Our home is a thirty minute walk along the sea...</td>\n",
       "      <td>Beautifully renovated, spacious and quiet, our...</td>\n",
       "      <td>none</td>\n",
       "      <td>Balgowlah Heights is one of the most prestigio...</td>\n",
       "      <td>...</td>\n",
       "      <td>f</td>\n",
       "      <td>f</td>\n",
       "      <td>strict_14_with_grace_period</td>\n",
       "      <td>f</td>\n",
       "      <td>f</td>\n",
       "      <td>2</td>\n",
       "      <td>2</td>\n",
       "      <td>0</td>\n",
       "      <td>0</td>\n",
       "      <td>0.05</td>\n",
       "    </tr>\n",
       "    <tr>\n",
       "      <th>3</th>\n",
       "      <td>15253</td>\n",
       "      <td>https://www.airbnb.com/rooms/15253</td>\n",
       "      <td>20190710033517</td>\n",
       "      <td>2019-07-10</td>\n",
       "      <td>Stunning Penthouse Apartment In Heart Of The City</td>\n",
       "      <td>Penthouse living in a great central location: ...</td>\n",
       "      <td>A charming two-level, two-bedroom, two-bathroo...</td>\n",
       "      <td>Penthouse living in a great central location: ...</td>\n",
       "      <td>none</td>\n",
       "      <td>The location is really central and there is nu...</td>\n",
       "      <td>...</td>\n",
       "      <td>t</td>\n",
       "      <td>f</td>\n",
       "      <td>strict_14_with_grace_period</td>\n",
       "      <td>f</td>\n",
       "      <td>f</td>\n",
       "      <td>3</td>\n",
       "      <td>2</td>\n",
       "      <td>1</td>\n",
       "      <td>0</td>\n",
       "      <td>3.60</td>\n",
       "    </tr>\n",
       "    <tr>\n",
       "      <th>4</th>\n",
       "      <td>20865</td>\n",
       "      <td>https://www.airbnb.com/rooms/20865</td>\n",
       "      <td>20190710033517</td>\n",
       "      <td>2019-07-11</td>\n",
       "      <td>3 BED HOUSE + 1 BED STUDIO Balmain</td>\n",
       "      <td>Hi! We are a married professional couple with ...</td>\n",
       "      <td>HOUSE : _________ * DUCTED AIR CONDITIONING IN...</td>\n",
       "      <td>Hi! We are a married professional couple with ...</td>\n",
       "      <td>none</td>\n",
       "      <td>BALMAIN is an older inner city village / subur...</td>\n",
       "      <td>...</td>\n",
       "      <td>f</td>\n",
       "      <td>f</td>\n",
       "      <td>strict_14_with_grace_period</td>\n",
       "      <td>t</td>\n",
       "      <td>t</td>\n",
       "      <td>1</td>\n",
       "      <td>1</td>\n",
       "      <td>0</td>\n",
       "      <td>0</td>\n",
       "      <td>0.17</td>\n",
       "    </tr>\n",
       "  </tbody>\n",
       "</table>\n",
       "<p>5 rows × 106 columns</p>\n",
       "</div>"
      ],
      "text/plain": [
       "      id                         listing_url       scrape_id last_scraped  \\\n",
       "0  11156  https://www.airbnb.com/rooms/11156  20190710033517   2019-07-11   \n",
       "1  12351  https://www.airbnb.com/rooms/12351  20190710033517   2019-07-11   \n",
       "2  14250  https://www.airbnb.com/rooms/14250  20190710033517   2019-07-10   \n",
       "3  15253  https://www.airbnb.com/rooms/15253  20190710033517   2019-07-10   \n",
       "4  20865  https://www.airbnb.com/rooms/20865  20190710033517   2019-07-11   \n",
       "\n",
       "                                                name  \\\n",
       "0                               An Oasis in the City   \n",
       "1                  Sydney City & Harbour at the door   \n",
       "2                                Manly Harbour House   \n",
       "3  Stunning Penthouse Apartment In Heart Of The City   \n",
       "4                 3 BED HOUSE + 1 BED STUDIO Balmain   \n",
       "\n",
       "                                             summary  \\\n",
       "0  Very central to the city which can be reached ...   \n",
       "1  Come stay with Vinh & Stuart (Awarded as one o...   \n",
       "2  Beautifully renovated, spacious and quiet, our...   \n",
       "3  Penthouse living in a great central location: ...   \n",
       "4  Hi! We are a married professional couple with ...   \n",
       "\n",
       "                                               space  \\\n",
       "0  Potts Pt. is a vibrant  and popular inner-city...   \n",
       "1  We're pretty relaxed hosts, and we fully appre...   \n",
       "2  Our home is a thirty minute walk along the sea...   \n",
       "3  A charming two-level, two-bedroom, two-bathroo...   \n",
       "4  HOUSE : _________ * DUCTED AIR CONDITIONING IN...   \n",
       "\n",
       "                                         description experiences_offered  \\\n",
       "0  Very central to the city which can be reached ...                none   \n",
       "1  Come stay with Vinh & Stuart (Awarded as one o...                none   \n",
       "2  Beautifully renovated, spacious and quiet, our...                none   \n",
       "3  Penthouse living in a great central location: ...                none   \n",
       "4  Hi! We are a married professional couple with ...                none   \n",
       "\n",
       "                               neighborhood_overview        ...          \\\n",
       "0  It is very close to everything and everywhere,...        ...           \n",
       "1  Pyrmont is an inner-city village of Sydney, on...        ...           \n",
       "2  Balgowlah Heights is one of the most prestigio...        ...           \n",
       "3  The location is really central and there is nu...        ...           \n",
       "4  BALMAIN is an older inner city village / subur...        ...           \n",
       "\n",
       "  instant_bookable is_business_travel_ready          cancellation_policy  \\\n",
       "0                f                        f                     moderate   \n",
       "1                f                        f  strict_14_with_grace_period   \n",
       "2                f                        f  strict_14_with_grace_period   \n",
       "3                t                        f  strict_14_with_grace_period   \n",
       "4                f                        f  strict_14_with_grace_period   \n",
       "\n",
       "  require_guest_profile_picture require_guest_phone_verification  \\\n",
       "0                             f                                f   \n",
       "1                             t                                t   \n",
       "2                             f                                f   \n",
       "3                             f                                f   \n",
       "4                             t                                t   \n",
       "\n",
       "   calculated_host_listings_count  \\\n",
       "0                               1   \n",
       "1                               2   \n",
       "2                               2   \n",
       "3                               3   \n",
       "4                               1   \n",
       "\n",
       "   calculated_host_listings_count_entire_homes  \\\n",
       "0                                            0   \n",
       "1                                            0   \n",
       "2                                            2   \n",
       "3                                            2   \n",
       "4                                            1   \n",
       "\n",
       "  calculated_host_listings_count_private_rooms  \\\n",
       "0                                            1   \n",
       "1                                            2   \n",
       "2                                            0   \n",
       "3                                            1   \n",
       "4                                            0   \n",
       "\n",
       "   calculated_host_listings_count_shared_rooms  reviews_per_month  \n",
       "0                                            0               1.58  \n",
       "1                                            0               4.73  \n",
       "2                                            0               0.05  \n",
       "3                                            0               3.60  \n",
       "4                                            0               0.17  \n",
       "\n",
       "[5 rows x 106 columns]"
      ]
     },
     "execution_count": 4,
     "metadata": {},
     "output_type": "execute_result"
    }
   ],
   "source": [
    "listings.head()"
   ]
  },
  {
   "cell_type": "code",
   "execution_count": 5,
   "metadata": {},
   "outputs": [
    {
     "data": {
      "text/plain": [
       "array(['id', 'listing_url', 'scrape_id', 'last_scraped', 'name',\n",
       "       'summary', 'space', 'description', 'experiences_offered',\n",
       "       'neighborhood_overview', 'notes', 'transit', 'access',\n",
       "       'interaction', 'house_rules', 'thumbnail_url', 'medium_url',\n",
       "       'picture_url', 'xl_picture_url', 'host_id', 'host_url',\n",
       "       'host_name', 'host_since', 'host_location', 'host_about',\n",
       "       'host_response_time', 'host_response_rate', 'host_acceptance_rate',\n",
       "       'host_is_superhost', 'host_thumbnail_url', 'host_picture_url',\n",
       "       'host_neighbourhood', 'host_listings_count',\n",
       "       'host_total_listings_count', 'host_verifications',\n",
       "       'host_has_profile_pic', 'host_identity_verified', 'street',\n",
       "       'neighbourhood', 'neighbourhood_cleansed',\n",
       "       'neighbourhood_group_cleansed', 'city', 'state', 'zipcode',\n",
       "       'market', 'smart_location', 'country_code', 'country', 'latitude',\n",
       "       'longitude', 'is_location_exact', 'property_type', 'room_type',\n",
       "       'accommodates', 'bathrooms', 'bedrooms', 'beds', 'bed_type',\n",
       "       'amenities', 'square_feet', 'price', 'weekly_price',\n",
       "       'monthly_price', 'security_deposit', 'cleaning_fee',\n",
       "       'guests_included', 'extra_people', 'minimum_nights',\n",
       "       'maximum_nights', 'minimum_minimum_nights',\n",
       "       'maximum_minimum_nights', 'minimum_maximum_nights',\n",
       "       'maximum_maximum_nights', 'minimum_nights_avg_ntm',\n",
       "       'maximum_nights_avg_ntm', 'calendar_updated', 'has_availability',\n",
       "       'availability_30', 'availability_60', 'availability_90',\n",
       "       'availability_365', 'calendar_last_scraped', 'number_of_reviews',\n",
       "       'number_of_reviews_ltm', 'first_review', 'last_review',\n",
       "       'review_scores_rating', 'review_scores_accuracy',\n",
       "       'review_scores_cleanliness', 'review_scores_checkin',\n",
       "       'review_scores_communication', 'review_scores_location',\n",
       "       'review_scores_value', 'requires_license', 'license',\n",
       "       'jurisdiction_names', 'instant_bookable',\n",
       "       'is_business_travel_ready', 'cancellation_policy',\n",
       "       'require_guest_profile_picture',\n",
       "       'require_guest_phone_verification',\n",
       "       'calculated_host_listings_count',\n",
       "       'calculated_host_listings_count_entire_homes',\n",
       "       'calculated_host_listings_count_private_rooms',\n",
       "       'calculated_host_listings_count_shared_rooms', 'reviews_per_month'],\n",
       "      dtype=object)"
      ]
     },
     "execution_count": 5,
     "metadata": {},
     "output_type": "execute_result"
    }
   ],
   "source": [
    "# 106 columns in the listings dataset - print these out to help get a better sense of the available data\n",
    "listings.columns.values"
   ]
  },
  {
   "cell_type": "code",
   "execution_count": 6,
   "metadata": {},
   "outputs": [
    {
     "data": {
      "text/html": [
       "<div>\n",
       "<style scoped>\n",
       "    .dataframe tbody tr th:only-of-type {\n",
       "        vertical-align: middle;\n",
       "    }\n",
       "\n",
       "    .dataframe tbody tr th {\n",
       "        vertical-align: top;\n",
       "    }\n",
       "\n",
       "    .dataframe thead th {\n",
       "        text-align: right;\n",
       "    }\n",
       "</style>\n",
       "<table border=\"1\" class=\"dataframe\">\n",
       "  <thead>\n",
       "    <tr style=\"text-align: right;\">\n",
       "      <th></th>\n",
       "      <th>listing_id</th>\n",
       "      <th>id</th>\n",
       "      <th>date</th>\n",
       "      <th>reviewer_id</th>\n",
       "      <th>reviewer_name</th>\n",
       "      <th>comments</th>\n",
       "    </tr>\n",
       "  </thead>\n",
       "  <tbody>\n",
       "    <tr>\n",
       "      <th>0</th>\n",
       "      <td>11156</td>\n",
       "      <td>19220</td>\n",
       "      <td>2009-12-05</td>\n",
       "      <td>52946</td>\n",
       "      <td>Jeff</td>\n",
       "      <td>Colleen was friendly and very helpful regardin...</td>\n",
       "    </tr>\n",
       "    <tr>\n",
       "      <th>1</th>\n",
       "      <td>11156</td>\n",
       "      <td>32592</td>\n",
       "      <td>2010-03-31</td>\n",
       "      <td>99382</td>\n",
       "      <td>Michael</td>\n",
       "      <td>Great place, centrally located, easy walk to t...</td>\n",
       "    </tr>\n",
       "    <tr>\n",
       "      <th>2</th>\n",
       "      <td>11156</td>\n",
       "      <td>42280</td>\n",
       "      <td>2010-05-14</td>\n",
       "      <td>105797</td>\n",
       "      <td>Marina</td>\n",
       "      <td>Colleen is very friendly and helpful. The apar...</td>\n",
       "    </tr>\n",
       "    <tr>\n",
       "      <th>3</th>\n",
       "      <td>11156</td>\n",
       "      <td>140942</td>\n",
       "      <td>2010-11-17</td>\n",
       "      <td>259213</td>\n",
       "      <td>Sigrid</td>\n",
       "      <td>Dear Colleen!\\r\\nMy friend Diemut from Germany...</td>\n",
       "    </tr>\n",
       "    <tr>\n",
       "      <th>4</th>\n",
       "      <td>11156</td>\n",
       "      <td>151966</td>\n",
       "      <td>2010-12-11</td>\n",
       "      <td>273389</td>\n",
       "      <td>Eduardo</td>\n",
       "      <td>Lovely, interesting chats and very helpful giv...</td>\n",
       "    </tr>\n",
       "  </tbody>\n",
       "</table>\n",
       "</div>"
      ],
      "text/plain": [
       "   listing_id      id        date  reviewer_id reviewer_name  \\\n",
       "0       11156   19220  2009-12-05        52946          Jeff   \n",
       "1       11156   32592  2010-03-31        99382       Michael   \n",
       "2       11156   42280  2010-05-14       105797        Marina   \n",
       "3       11156  140942  2010-11-17       259213        Sigrid   \n",
       "4       11156  151966  2010-12-11       273389       Eduardo   \n",
       "\n",
       "                                            comments  \n",
       "0  Colleen was friendly and very helpful regardin...  \n",
       "1  Great place, centrally located, easy walk to t...  \n",
       "2  Colleen is very friendly and helpful. The apar...  \n",
       "3  Dear Colleen!\\r\\nMy friend Diemut from Germany...  \n",
       "4  Lovely, interesting chats and very helpful giv...  "
      ]
     },
     "execution_count": 6,
     "metadata": {},
     "output_type": "execute_result"
    }
   ],
   "source": [
    "reviews.head()"
   ]
  },
  {
   "cell_type": "code",
   "execution_count": 7,
   "metadata": {},
   "outputs": [
    {
     "data": {
      "text/html": [
       "<div>\n",
       "<style scoped>\n",
       "    .dataframe tbody tr th:only-of-type {\n",
       "        vertical-align: middle;\n",
       "    }\n",
       "\n",
       "    .dataframe tbody tr th {\n",
       "        vertical-align: top;\n",
       "    }\n",
       "\n",
       "    .dataframe thead th {\n",
       "        text-align: right;\n",
       "    }\n",
       "</style>\n",
       "<table border=\"1\" class=\"dataframe\">\n",
       "  <thead>\n",
       "    <tr style=\"text-align: right;\">\n",
       "      <th></th>\n",
       "      <th>listing_id</th>\n",
       "      <th>date</th>\n",
       "      <th>available</th>\n",
       "      <th>price</th>\n",
       "      <th>adjusted_price</th>\n",
       "      <th>minimum_nights</th>\n",
       "      <th>maximum_nights</th>\n",
       "    </tr>\n",
       "  </thead>\n",
       "  <tbody>\n",
       "    <tr>\n",
       "      <th>0</th>\n",
       "      <td>873636</td>\n",
       "      <td>2019-07-10</td>\n",
       "      <td>t</td>\n",
       "      <td>$60.00</td>\n",
       "      <td>$60.00</td>\n",
       "      <td>1.0</td>\n",
       "      <td>60.0</td>\n",
       "    </tr>\n",
       "    <tr>\n",
       "      <th>1</th>\n",
       "      <td>1329486</td>\n",
       "      <td>2019-07-10</td>\n",
       "      <td>f</td>\n",
       "      <td>$184.00</td>\n",
       "      <td>$184.00</td>\n",
       "      <td>4.0</td>\n",
       "      <td>1125.0</td>\n",
       "    </tr>\n",
       "    <tr>\n",
       "      <th>2</th>\n",
       "      <td>1329486</td>\n",
       "      <td>2019-07-11</td>\n",
       "      <td>f</td>\n",
       "      <td>$184.00</td>\n",
       "      <td>$184.00</td>\n",
       "      <td>4.0</td>\n",
       "      <td>1125.0</td>\n",
       "    </tr>\n",
       "    <tr>\n",
       "      <th>3</th>\n",
       "      <td>1329486</td>\n",
       "      <td>2019-07-12</td>\n",
       "      <td>f</td>\n",
       "      <td>$184.00</td>\n",
       "      <td>$184.00</td>\n",
       "      <td>4.0</td>\n",
       "      <td>1125.0</td>\n",
       "    </tr>\n",
       "    <tr>\n",
       "      <th>4</th>\n",
       "      <td>1329486</td>\n",
       "      <td>2019-07-13</td>\n",
       "      <td>f</td>\n",
       "      <td>$184.00</td>\n",
       "      <td>$184.00</td>\n",
       "      <td>4.0</td>\n",
       "      <td>1125.0</td>\n",
       "    </tr>\n",
       "  </tbody>\n",
       "</table>\n",
       "</div>"
      ],
      "text/plain": [
       "   listing_id        date available    price adjusted_price  minimum_nights  \\\n",
       "0      873636  2019-07-10         t   $60.00         $60.00             1.0   \n",
       "1     1329486  2019-07-10         f  $184.00        $184.00             4.0   \n",
       "2     1329486  2019-07-11         f  $184.00        $184.00             4.0   \n",
       "3     1329486  2019-07-12         f  $184.00        $184.00             4.0   \n",
       "4     1329486  2019-07-13         f  $184.00        $184.00             4.0   \n",
       "\n",
       "   maximum_nights  \n",
       "0            60.0  \n",
       "1          1125.0  \n",
       "2          1125.0  \n",
       "3          1125.0  \n",
       "4          1125.0  "
      ]
     },
     "execution_count": 7,
     "metadata": {},
     "output_type": "execute_result"
    }
   ],
   "source": [
    "calendar.head()"
   ]
  },
  {
   "cell_type": "markdown",
   "metadata": {},
   "source": [
    "As an initial exploration - look at any missing values for each datast"
   ]
  },
  {
   "cell_type": "code",
   "execution_count": 8,
   "metadata": {},
   "outputs": [
    {
     "data": {
      "text/plain": [
       "host_acceptance_rate                            1.000000\n",
       "jurisdiction_names                              1.000000\n",
       "xl_picture_url                                  1.000000\n",
       "medium_url                                      1.000000\n",
       "neighbourhood_group_cleansed                    1.000000\n",
       "thumbnail_url                                   1.000000\n",
       "license                                         0.998372\n",
       "square_feet                                     0.993829\n",
       "monthly_price                                   0.946875\n",
       "weekly_price                                    0.912631\n",
       "notes                                           0.590678\n",
       "host_response_time                              0.467673\n",
       "host_response_rate                              0.467673\n",
       "host_about                                      0.465546\n",
       "access                                          0.423293\n",
       "interaction                                     0.420273\n",
       "house_rules                                     0.415966\n",
       "neighborhood_overview                           0.384506\n",
       "transit                                         0.376654\n",
       "security_deposit                                0.365678\n",
       "review_scores_value                             0.317384\n",
       "review_scores_location                          0.317306\n",
       "review_scores_checkin                           0.317306\n",
       "review_scores_accuracy                          0.316859\n",
       "review_scores_communication                     0.316492\n",
       "review_scores_cleanliness                       0.316334\n",
       "review_scores_rating                            0.315783\n",
       "host_neighbourhood                              0.315310\n",
       "space                                           0.299501\n",
       "reviews_per_month                               0.285137\n",
       "                                                  ...   \n",
       "number_of_reviews_ltm                           0.000000\n",
       "requires_license                                0.000000\n",
       "instant_bookable                                0.000000\n",
       "is_business_travel_ready                        0.000000\n",
       "require_guest_profile_picture                   0.000000\n",
       "require_guest_phone_verification                0.000000\n",
       "calculated_host_listings_count                  0.000000\n",
       "calculated_host_listings_count_entire_homes     0.000000\n",
       "calculated_host_listings_count_private_rooms    0.000000\n",
       "maximum_nights_avg_ntm                          0.000000\n",
       "minimum_nights_avg_ntm                          0.000000\n",
       "maximum_maximum_nights                          0.000000\n",
       "bed_type                                        0.000000\n",
       "country                                         0.000000\n",
       "latitude                                        0.000000\n",
       "longitude                                       0.000000\n",
       "is_location_exact                               0.000000\n",
       "property_type                                   0.000000\n",
       "calculated_host_listings_count_shared_rooms     0.000000\n",
       "accommodates                                    0.000000\n",
       "amenities                                       0.000000\n",
       "minimum_maximum_nights                          0.000000\n",
       "price                                           0.000000\n",
       "guests_included                                 0.000000\n",
       "extra_people                                    0.000000\n",
       "minimum_nights                                  0.000000\n",
       "maximum_nights                                  0.000000\n",
       "minimum_minimum_nights                          0.000000\n",
       "maximum_minimum_nights                          0.000000\n",
       "id                                              0.000000\n",
       "Length: 106, dtype: float64"
      ]
     },
     "execution_count": 8,
     "metadata": {},
     "output_type": "execute_result"
    }
   ],
   "source": [
    "# proportion of missing values in the listing data\n",
    "missing_prop_listings = (listings.isnull().sum()/len(listings)).sort_values(ascending=False)\n",
    "missing_prop_listings"
   ]
  },
  {
   "cell_type": "code",
   "execution_count": 9,
   "metadata": {},
   "outputs": [
    {
     "data": {
      "image/png": "[encoded data removed]",
      "text/plain": [
       "<Figure size 432x288 with 1 Axes>"
      ]
     },
     "metadata": {
      "needs_background": "light"
     },
     "output_type": "display_data"
    }
   ],
   "source": [
    "# plot the proportion of missing values in the listings data\n",
    "plt.hist(missing_prop_listings)\n",
    "plt.xlabel('Missing Proportion - Listings Data')\n",
    "plt.ylabel('No. Columns')\n",
    "plt.show()"
   ]
  },
  {
   "cell_type": "code",
   "execution_count": 10,
   "metadata": {},
   "outputs": [
    {
     "data": {
      "text/plain": [
       "maximum_nights    0.000005\n",
       "minimum_nights    0.000005\n",
       "adjusted_price    0.000000\n",
       "price             0.000000\n",
       "available         0.000000\n",
       "date              0.000000\n",
       "listing_id        0.000000\n",
       "dtype: float64"
      ]
     },
     "execution_count": 10,
     "metadata": {},
     "output_type": "execute_result"
    }
   ],
   "source": [
    "# proportion of missing values in the calendar data\n",
    "(calendar.isnull().sum()/len(calendar)).sort_values(ascending=False)"
   ]
  },
  {
   "cell_type": "code",
   "execution_count": 11,
   "metadata": {},
   "outputs": [
    {
     "data": {
      "text/plain": [
       "comments         0.000438\n",
       "reviewer_name    0.000000\n",
       "reviewer_id      0.000000\n",
       "date             0.000000\n",
       "id               0.000000\n",
       "listing_id       0.000000\n",
       "dtype: float64"
      ]
     },
     "execution_count": 11,
     "metadata": {},
     "output_type": "execute_result"
    }
   ],
   "source": [
    "# proportion of missing values in the reviews data\n",
    "(reviews.isnull().sum()/len(reviews)).sort_values(ascending=False)"
   ]
  },
  {
   "cell_type": "markdown",
   "metadata": {},
   "source": [
    "So, we may need to treat the missing values to complete the analysis, especially the listings data"
   ]
  },
  {
   "cell_type": "markdown",
   "metadata": {},
   "source": [
    "#### 1) What are the busiest times of the year to visit Sydney? By how much do prices spike?\n",
    "\n",
    "The calendar data lists the current and future availability of listings. As with hotels, it would seem reasonable to assume prices increase during busy times, so let's take at average prices throughout the year."
   ]
  },
  {
   "cell_type": "code",
   "execution_count": 12,
   "metadata": {},
   "outputs": [
    {
     "data": {
      "text/plain": [
       "<matplotlib.axes._subplots.AxesSubplot at 0x1df002607f0>"
      ]
     },
     "execution_count": 12,
     "metadata": {},
     "output_type": "execute_result"
    },
    {
     "data": {
      "image/png": "[encoded data removed]",
      "text/plain": [
       "<Figure size 720x432 with 1 Axes>"
      ]
     },
     "metadata": {
      "needs_background": "light"
     },
     "output_type": "display_data"
    }
   ],
   "source": [
    "# convert string to numeric\n",
    "calendar['price'] = calendar['price'].str.replace('$','').str.replace(',','').astype(float)\n",
    "\n",
    "# convert string to date format\n",
    "calendar['date'] = pd.to_datetime(calendar['date'])\n",
    "\n",
    "# take start of month as reference date\n",
    "calendar['period_mth'] = calendar['date'] + pd.tseries.offsets.MonthEnd(n=0) - pd.tseries.offsets.MonthBegin(n=1)\n",
    "\n",
    "# plot average price by month\n",
    "avg_price_mth = calendar.groupby(['period_mth'])['price'].mean()\n",
    "avg_price_mth.plot(figsize=(10,6))"
   ]
  },
  {
   "cell_type": "code",
   "execution_count": 13,
   "metadata": {},
   "outputs": [
    {
     "name": "stdout",
     "output_type": "stream",
     "text": [
      "period_mth\n",
      "2019-07-01    194.768872\n",
      "2019-08-01    197.416662\n",
      "2019-09-01    200.284955\n",
      "2019-10-01    202.558245\n",
      "2019-11-01    207.650058\n",
      "2019-12-01    225.396808\n",
      "2020-01-01    225.981962\n",
      "2020-02-01    218.654635\n",
      "2020-03-01    216.881727\n",
      "2020-04-01    216.105679\n",
      "2020-05-01    215.153148\n",
      "2020-06-01    212.920798\n",
      "2020-07-01    213.753865\n",
      "Name: price, dtype: float64\n"
     ]
    }
   ],
   "source": [
    "print(avg_price_mth)"
   ]
  },
  {
   "cell_type": "code",
   "execution_count": 14,
   "metadata": {},
   "outputs": [
    {
     "data": {
      "text/plain": [
       "<matplotlib.axes._subplots.AxesSubplot at 0x1df00101710>"
      ]
     },
     "execution_count": 14,
     "metadata": {},
     "output_type": "execute_result"
    },
    {
     "data": {
      "image/png": "[encoded data removed]",
      "text/plain": [
       "<Figure size 720x432 with 1 Axes>"
      ]
     },
     "metadata": {
      "needs_background": "light"
     },
     "output_type": "display_data"
    }
   ],
   "source": [
    "# take a closer look by date\n",
    "avg_price_date = calendar.groupby(['date'])['price'].mean()\n",
    "avg_price_date.plot(figsize=(10,6))"
   ]
  },
  {
   "cell_type": "markdown",
   "metadata": {},
   "source": [
    "We can see the busiest times are the weeks before and after new years eve. December and January average prices of 225 per night, compared to 200 per night for the preceding months.\n",
    "\n",
    "In particular, days around Christmas and New Year spike dramatically to around 280 per night.\n",
    "\n",
    "The higher average monthly price of 215 per night post January is perhaps due to the date being several months in advance (the data is compiled in July 2019). It would be interesting to see price movements as the booking dates get nearer."
   ]
  },
  {
   "cell_type": "markdown",
   "metadata": {},
   "source": [
    "#### 2) Is there a general upward trend of both new Airbnb listings and total Airbnb visitors to Sydney?\n",
    "\n",
    "The listings data notes contains an ID for hosts, and how long they have been a host on the platform. We can get a sense of how many new listings are being added by looking at how many new hosts are joining the platform.\n",
    "\n",
    "For this, we'll need the \"host id\" and \"host since\" variables."
   ]
  },
  {
   "cell_type": "code",
   "execution_count": 15,
   "metadata": {},
   "outputs": [],
   "source": [
    "# drop missing values, and drop duplicates as we want just one record per host\n",
    "host = listings[['host_id', 'host_since']].dropna().drop_duplicates().sort_values(by=['host_since'])\n",
    "\n",
    "# count of hosts by join date\n",
    "host['host_since'] = pd.to_datetime(host['host_since'])\n",
    "host_count = host.groupby(['host_since'])['host_id'].count().reset_index() \n",
    "\n",
    "# cumulative count\n",
    "host_count['cumulative_count'] = host_count['host_id'].cumsum()"
   ]
  },
  {
   "cell_type": "code",
   "execution_count": 16,
   "metadata": {},
   "outputs": [
    {
     "data": {
      "image/png": "[encoded data removed]",
      "text/plain": [
       "<Figure size 720x432 with 2 Axes>"
      ]
     },
     "metadata": {
      "needs_background": "light"
     },
     "output_type": "display_data"
    }
   ],
   "source": [
    "# plot count and cumulative count of hosts by date\n",
    "\n",
    "fig, ax1 = plt.subplots(figsize=(10, 6))\n",
    "\n",
    "ax2 = ax1.twinx()\n",
    "ax1.plot(host_count['host_since'], host_count['host_id'], 'b-', linewidth=0.25)\n",
    "ax2.plot(host_count['host_since'], host_count['cumulative_count'], 'r-', linewidth=1.0)\n",
    "\n",
    "ax1.set_xlabel('Host Since')\n",
    "ax1.set_ylabel('Count of Hosts', color='b')\n",
    "ax2.set_ylabel('Cumulative Count', color='r')\n",
    "plt.show()"
   ]
  },
  {
   "cell_type": "markdown",
   "metadata": {},
   "source": [
    "For the trend of AirBNB visitors to Sydney, we can use the number of reviews as an indicative measure."
   ]
  },
  {
   "cell_type": "code",
   "execution_count": 17,
   "metadata": {},
   "outputs": [],
   "source": [
    "# count and cumulative count of reviews\n",
    "\n",
    "reviews['date'] = pd.to_datetime(reviews['date'])\n",
    "\n",
    "review_count = reviews.groupby(['date'])['id'].count().reset_index() \n",
    "review_count['cumulative_count'] = review_count['id'].cumsum()"
   ]
  },
  {
   "cell_type": "code",
   "execution_count": 18,
   "metadata": {},
   "outputs": [
    {
     "data": {
      "image/png": "[encoded data removed]",
      "text/plain": [
       "<Figure size 720x432 with 2 Axes>"
      ]
     },
     "metadata": {
      "needs_background": "light"
     },
     "output_type": "display_data"
    }
   ],
   "source": [
    "fig, ax1 = plt.subplots(figsize=(10, 6))\n",
    "\n",
    "ax2 = ax1.twinx()\n",
    "ax1.plot(review_count['date'], review_count['id'], 'b-', linewidth=0.25)\n",
    "ax2.plot(review_count['date'], review_count['cumulative_count'], 'r-', linewidth=1.0)\n",
    "\n",
    "ax1.set_xlabel('Review Date')\n",
    "ax1.set_ylabel('Count', color='b')\n",
    "ax2.set_ylabel('Cumulative Count', color='r')\n",
    "plt.show()"
   ]
  },
  {
   "cell_type": "markdown",
   "metadata": {},
   "source": [
    "From the above, we can see that there was a strong increase in the number of hosts on AirBNB up until 2016. Since then, the rate at which new hosts are joining has dropped off.\n",
    "\n",
    "There has also been a continued upward trend in the number of reviews left on the site. Some of this may be due to more visitors writing reviews, but its also indicative of an increase in the number of visitors to Sydney using AirBNB."
   ]
  },
  {
   "cell_type": "markdown",
   "metadata": {},
   "source": [
    "#### 3) Can you describe the vibe of each Sydney neighborhood using listing descriptions?\n",
    "\n",
    "For this, we'll again use the listing data. First, let's see which are top 10 neighbourhoods on the site."
   ]
  },
  {
   "cell_type": "code",
   "execution_count": 19,
   "metadata": {},
   "outputs": [
    {
     "data": {
      "text/plain": [
       "<matplotlib.axes._subplots.AxesSubplot at 0x1df003779b0>"
      ]
     },
     "execution_count": 19,
     "metadata": {},
     "output_type": "execute_result"
    },
    {
     "data": {
      "image/png": "[encoded data removed]",
      "text/plain": [
       "<Figure size 432x288 with 1 Axes>"
      ]
     },
     "metadata": {
      "needs_background": "light"
     },
     "output_type": "display_data"
    }
   ],
   "source": [
    "neighbour = listings[['neighbourhood','neighborhood_overview']]\n",
    "\n",
    "# drop missing values and duplicate descriptions\n",
    "neighbour = neighbour.replace('NaN', np.nan).dropna().drop_duplicates()\n",
    "\n",
    "neighbour['neighbourhood'].value_counts().nlargest(10).plot(kind='bar')"
   ]
  },
  {
   "cell_type": "code",
   "execution_count": 20,
   "metadata": {},
   "outputs": [],
   "source": [
    "# instantiate the tfidfvectorizer to help with the text feature extraction analysis, ignore common words\n",
    "vectorizer = TfidfVectorizer(stop_words='english')\n",
    "\n",
    "def neighbour_desc(loc, n):\n",
    "    '''\n",
    "    Function to get the top n keywords for a neighbourhood\n",
    "\n",
    "    Parameters:\n",
    "    loc (str): name of the neighbourhood area\n",
    "    n (int): number of top keywords to get\n",
    "\n",
    "    Returns:\n",
    "    top_n_desc: list of top n keywords for neighbourhood\n",
    "\n",
    "    '''\n",
    "    \n",
    "    select_neighbour = neighbour[neighbour['neighbourhood'] == loc]\n",
    "    neighbour_fit = vectorizer.fit_transform(select_neighbour['neighborhood_overview'])\n",
    "    \n",
    "    desc_array = np.array(vectorizer.get_feature_names())\n",
    "    neighbour_fit_sorted = np.argsort(neighbour_fit.toarray()).flatten()[::-1]\n",
    "    \n",
    "    top_n_desc = desc_array[neighbour_fit_sorted][:n]\n",
    "\n",
    "    return top_n_desc"
   ]
  },
  {
   "cell_type": "markdown",
   "metadata": {},
   "source": [
    "Let's take a look at descriptions for 3 of the neighbourhoods"
   ]
  },
  {
   "cell_type": "code",
   "execution_count": 21,
   "metadata": {},
   "outputs": [
    {
     "data": {
      "text/plain": [
       "array(['5min', 'supermarkets', 'iconic', 'distance', 'walking', 'bars',\n",
       "       'restaurants', 'beach', 'bondi', 'evenings'], dtype='<U15')"
      ]
     },
     "execution_count": 21,
     "metadata": {},
     "output_type": "execute_result"
    }
   ],
   "source": [
    "neighbour_desc(loc='Bondi Beach', n=10)"
   ]
  },
  {
   "cell_type": "code",
   "execution_count": 22,
   "metadata": {},
   "outputs": [
    {
     "data": {
      "text/plain": [
       "array(['st', 'flinders', 'dowling', 'football', 'stadium', 'ground',\n",
       "       'cricket', 'south', 'corner', 'short'], dtype='<U16')"
      ]
     },
     "execution_count": 22,
     "metadata": {},
     "output_type": "execute_result"
    }
   ],
   "source": [
    "neighbour_desc(loc='Surry Hills', n=10)"
   ]
  },
  {
   "cell_type": "code",
   "execution_count": 23,
   "metadata": {},
   "outputs": [
    {
     "data": {
      "text/plain": [
       "array(['convenient', 'unconventional', 'design', 'thriving', 'colourful',\n",
       "       'scene', 'restaurant', 'heart', '10', 'located'], dtype='<U15')"
      ]
     },
     "execution_count": 23,
     "metadata": {},
     "output_type": "execute_result"
    }
   ],
   "source": [
    "neighbour_desc(loc='Newtown/Enmore', n=10)"
   ]
  },
  {
   "cell_type": "markdown",
   "metadata": {},
   "source": [
    "The top keywords from the listing descriptions appear to accurately describe the different neighbourhoods:\n",
    "\n",
    "Bondi Beach is one of the most popular tourist sites in Sydney, and words like \"iconic\", \"bars\", \"restaurants\", and \"evenings\" are reflective of this.\n",
    "\n",
    "Surry Hills is located close by to Moore Park, where the Sydney Football Stadium and Sydney Cricket Ground are located. Flinders Street and South Dowling Street are major roads in the area, which would explain the presence of \"flinders\" and \"dowling\" in the list.\n",
    "\n",
    "For those already familiar with Sydney - \"unconventional\", \"thriving\", and \"colourful\" is certainly true for Newtown/Enmore. It is a hip and diverse area for food and the arts catering to a large range of tastes, and only a short distance away from the central business district.  "
   ]
  },
  {
   "cell_type": "code",
   "execution_count": null,
   "metadata": {},
   "outputs": [],
   "source": []
  }
 ],
 "metadata": {
  "kernelspec": {
   "display_name": "Python 3",
   "language": "python",
   "name": "python3"
  },
  "language_info": {
   "codemirror_mode": {
    "name": "ipython",
    "version": 3
   },
   "file_extension": ".py",
   "mimetype": "text/x-python",
   "name": "python",
   "nbconvert_exporter": "python",
   "pygments_lexer": "ipython3",
   "version": "3.7.0"
  }
 },
 "nbformat": 4,
 "nbformat_minor": 2
}
